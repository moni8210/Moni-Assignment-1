{
 "cells": [
  {
   "cell_type": "code",
   "execution_count": 1,
   "id": "a6d5ba03",
   "metadata": {},
   "outputs": [
    {
     "name": "stdout",
     "output_type": "stream",
     "text": [
      "my:name:is::moni:khanna:\n"
     ]
    }
   ],
   "source": [
    "#qus1 \n",
    "import re\n",
    "text='my name is ,moni:khanna.'\n",
    "print(re.sub(\"[ ,.]\",\":\",text))"
   ]
  },
  {
   "cell_type": "code",
   "execution_count": 1,
   "id": "c2f90f2d",
   "metadata": {},
   "outputs": [
    {
     "name": "stdout",
     "output_type": "stream",
     "text": [
      "      name  age\n",
      "0     moni   25\n",
      "1    divya   35\n",
      "2  sabreen   40\n"
     ]
    }
   ],
   "source": [
    "#qus2\n",
    "import pandas as pd\n",
    "\n",
    "students={'name':['moni','divya','sabreen'],'age':[25,35,40]}\n",
    "df=pd.DataFrame(data=students)\n",
    "print(df)\n"
   ]
  },
  {
   "cell_type": "code",
   "execution_count": 3,
   "id": "9ef48a4a",
   "metadata": {},
   "outputs": [
    {
     "name": "stdout",
     "output_type": "stream",
     "text": [
      "['This', 'sample', 'example', 'python', 'programming', 'language']\n"
     ]
    }
   ],
   "source": [
    "#qus 3\n",
    "import re\n",
    "\n",
    "def find_long_words(input_string):\n",
    "    sequence = re.compile(r'\\b\\w{4,}\\b')\n",
    "    long_words = sequence.findall(input_string)\n",
    "    return long_words\n",
    "\n",
    "input_text = \"This is a sample example for python programming language.\"\n",
    "result = find_long_words(input_text)\n",
    "print(result)"
   ]
  },
  {
   "cell_type": "code",
   "execution_count": 4,
   "id": "f3e56a83",
   "metadata": {},
   "outputs": [
    {
     "name": "stdout",
     "output_type": "stream",
     "text": [
      "['This', 'with', 'words', 'like', 'cat', 'dog', 'and', 'bear']\n"
     ]
    }
   ],
   "source": [
    "#qus4\n",
    "import re\n",
    "\n",
    "def find_words_of_lengths(input_string, lengths=(9, 4, 2)):\n",
    "    pattern = re.compile(r'\\b\\w{3,5}\\b')\n",
    "    matching_words = pattern.findall(input_string)\n",
    "    return matching_words\n",
    "\n",
    "input_text = \"This is a sample string with words of various lengths like cat, dog, and bear.\"\n",
    "result = find_words_of_lengths(input_text)\n",
    "print(result)"
   ]
  },
  {
   "cell_type": "code",
   "execution_count": 7,
   "id": "cf10bca7",
   "metadata": {},
   "outputs": [
    {
     "name": "stdout",
     "output_type": "stream",
     "text": [
      "['This', 'with', 'words', 'like', 'cat', 'dog', 'and', 'bear']\n"
     ]
    }
   ],
   "source": [
    "#qus5\n",
    "import re\n",
    "\n",
    "def find_words_of_lengths(input_string, lengths=(3, 4, 5)):\n",
    "    pattern = re.compile(r'\\b\\w{3,5}\\b')\n",
    "    matching_words = pattern.findall(input_string)\n",
    "    return matching_words\n",
    "\n",
    "input_text = \"This is a sample string with words of various lengths like cat, dog, and bear.\"\n",
    "result = find_words_of_lengths(input_text)\n",
    "print(result)"
   ]
  },
  {
   "cell_type": "code",
   "execution_count": 5,
   "id": "848d0be0",
   "metadata": {},
   "outputs": [
    {
     "name": "stdout",
     "output_type": "stream",
     "text": [
      "This is some text  and more text.\n",
      "Another line with  here.\n",
      "\n"
     ]
    }
   ],
   "source": [
    "#qus6\n",
    "import re\n",
    "\n",
    "def remove_parentheses_from_file(file_path):\n",
    "    with open(file_path, 'w') as file:\n",
    "        file.write(\"This is some text (within parentheses) and more text.\\n\")\n",
    "        file.write(\"Another line with (additional information) here.\\n\")\n",
    "\n",
    "    with open(file_path, 'r') as file:\n",
    "        file_content = file.read()\n",
    "\n",
    "    pattern = re.compile(r'\\([^)]*\\)')\n",
    "    cleaned_content = pattern.sub('', file_content)\n",
    "\n",
    "    with open(file_path, 'w') as file:\n",
    "        file.write(cleaned_content)\n",
    "\n",
    "file_path = \"example_text.txt\"\n",
    "remove_parentheses_from_file(file_path)\n",
    "\n",
    "with open(file_path, 'r') as file:\n",
    "    final_content = file.read()\n",
    "\n",
    "print(final_content)"
   ]
  },
  {
   "cell_type": "code",
   "execution_count": 6,
   "id": "27c50a6a",
   "metadata": {},
   "outputs": [
    {
     "data": {
      "text/plain": [
       "['The', 'Long', 'And', 'Dirty', 'Road']"
      ]
     },
     "execution_count": 6,
     "metadata": {},
     "output_type": "execute_result"
    }
   ],
   "source": [
    "#qus7\n",
    "import re\n",
    "re.findall('[A-Z][^A-Z]*', 'TheLonganddirtyroad')\n",
    "['The', 'Long', 'And', 'Dirty', 'Road']\n"
   ]
  },
  {
   "cell_type": "code",
   "execution_count": 7,
   "id": "36823c17",
   "metadata": {},
   "outputs": [
    {
     "name": "stdout",
     "output_type": "stream",
     "text": [
      "This is a text with 1numbers and 42words.\n"
     ]
    }
   ],
   "source": [
    "#qus8\n",
    "import re\n",
    "\n",
    "def insert_spaces_before_numbers(text):\n",
    "    modified_text = re.sub(r'(?<=\\D)(\\d)', r' \\1', text)\n",
    "    \n",
    "    return modified_text\n",
    "\n",
    "original_text = \"This is a text numbers and42words.\"\n",
    "result = insert_spaces_before_numbers(original_text)\n",
    "print(result)"
   ]
  },
  {
   "cell_type": "code",
   "execution_count": 9,
   "id": "76ec91f4",
   "metadata": {},
   "outputs": [
    {
     "name": "stdout",
     "output_type": "stream",
     "text": [
      "The original string is : be8eks9beeks\n",
      "The space added string : be 8 eks 9 beeks\n"
     ]
    }
   ],
   "source": [
    "#qus9\n",
    "test_str = 'be8eks9beeks'\n",
    " \n",
    "# original String\n",
    "print(\"The original string is : \" + str(test_str))\n",
    "num=\"0123456789\"\n",
    "for i in test_str:\n",
    "    if i in num:\n",
    "        test_str=test_str.replace(i,\" \"+i+\" \")\n",
    "res=test_str\n",
    "# result\n",
    "print(\"The space added string : \" + str(res))"
   ]
  },
  {
   "cell_type": "code",
   "execution_count": 12,
   "id": "7e45d21a",
   "metadata": {},
   "outputs": [],
   "source": [
    "#qus10\n",
    "Import pandas as pd\n",
    "url = https://raw.githubusercontent.com/dsrscientist/DSData/master/happiness_score_dataset.csv\n",
    "df = pd.read_csv(url)\n",
    "df[‘first_five_letters’] = df[‘Country’].apply(lambda x: x[:6])\n",
    "print(df[‘first_five_letters’])\n"
   ]
  },
  {
   "cell_type": "code",
   "execution_count": 13,
   "id": "70ebb780",
   "metadata": {},
   "outputs": [],
   "source": [
    "#qus11\n",
    "import re\n",
    "\n",
    "def is_valid_string(input_string):\n",
    "    return bool(re.match(r'^[a-zA-Z0-9_]+$', input_string))\n",
    "\n",
    "test_string1 = \"Valid_String_123\"\n",
    "test_string2 = \"Invalid-String!\"\n",
    "\n",
    "print(is_valid_string(test_string1))\n",
    "print(is_valid_string(test_string2)) "
   ]
  },
  {
   "cell_type": "code",
   "execution_count": 10,
   "id": "05837e98",
   "metadata": {},
   "outputs": [],
   "source": [
    "#qus12\n",
    "def check(s, arr):\n",
    "\n",
    "    result = []\n",
    "\n",
    "    for i in arr:\n",
    "\n",
    "        if i in s:\n",
    "\n",
    "            result.append(\"True\")\n",
    "\n",
    "        else:\n",
    "\n",
    "            result.append(\"False\")\n",
    "\n",
    "    return result\n",
    "\n"
   ]
  },
  {
   "cell_type": "code",
   "execution_count": 11,
   "id": "f4a3c34d",
   "metadata": {},
   "outputs": [
    {
     "name": "stdout",
     "output_type": "stream",
     "text": [
      "192.10.12.45\n"
     ]
    }
   ],
   "source": [
    "#qus13\n",
    "def remove_leading_zeros(ip_address):\n",
    "   \n",
    "    octets = ip_address.split('.')\n",
    "\n",
    "    cleaned_octets = [str(int(octet)) for octet in octets]\n",
    "\n",
    "    cleaned_ip_address = '.'.join(cleaned_octets)\n",
    "\n",
    "    return cleaned_ip_address\n",
    "\n",
    "ip_address_with_zeros = \"192.010.012.045\"\n",
    "cleaned_ip_address = remove_leading_zeros(ip_address_with_zeros)\n",
    "print(cleaned_ip_address) "
   ]
  },
  {
   "cell_type": "markdown",
   "id": "e692dc59",
   "metadata": {},
   "source": [
    "import re\n",
    "import random\n",
    "import calendar\n",
    "\n",
    "def generate_random_date():\n",
    "    month = random.choice(list(calendar.month_name)[1:])\n",
    "    day = random.randint(1, 31)\n",
    "    year = random.randint(2000, 2023)\n",
    "    return f\"{month} {day}, {year}\"\n",
    "\n",
    "#qus14\n",
    "def create_and_write_to_file(file_path, num_entries):\n",
    "    with open(file_path, 'w') as file:\n",
    "        for _ in range(num_entries):\n",
    "            file.write(generate_random_date() + \"\\n\")\n",
    "\n",
    "def extract_dates_from_file(file_path):\n",
    "    with open(file_path, 'r') as file:\n",
    "        file_content = file.read()\n",
    "\n",
    "    pattern = re.compile(r'\\b(?:January|February|March|April|May|June|July|August|September|October|November|December)\\s+\\d{1,2},\\s+\\d{4}\\b')\n",
    "    matched_dates = pattern.findall(file_content)\n",
    "    return matched_dates\n",
    "\n",
    "# Example usage:\n",
    "file_path = \"random_dates.txt\"\n",
    "create_and_write_to_file(file_path, 10)\n",
    "\n",
    "matched_dates = extract_dates_from_file(file_path)\n",
    "print(matched_dates)\n"
   ]
  },
  {
   "cell_type": "code",
   "execution_count": 20,
   "id": "4bf268ee",
   "metadata": {},
   "outputs": [
    {
     "name": "stdout",
     "output_type": "stream",
     "text": [
      "['March 10, 2012', 'October 30, 2023', 'January 8, 2010', 'March 18, 2021', 'January 29, 2016', 'May 31, 2003', 'May 3, 2000', 'June 9, 2019', 'April 17, 2015', 'May 6, 2011']\n"
     ]
    }
   ],
   "source": [
    "#qus14\n",
    "import re\n",
    "import random\n",
    "import calendar\n",
    "\n",
    "def generate_random_date():\n",
    "    month = random.choice(list(calendar.month_name)[1:])\n",
    "    day = random.randint(1, 31)\n",
    "    year = random.randint(2000, 2023)\n",
    "    return f\"{month} {day}, {year}\"\n",
    "\n",
    "def create_and_write_to_file(file_path, num_entries):\n",
    "    with open(file_path, 'w') as file:\n",
    "        for _ in range(num_entries):\n",
    "            file.write(generate_random_date() + \"\\n\")\n",
    "\n",
    "def extract_dates_from_file(file_path):\n",
    "    with open(file_path, 'r') as file:\n",
    "        file_content = file.read()\n",
    "\n",
    "    pattern = re.compile(r'\\b(?:January|February|March|April|May|June|July|August|September|October|November|December)\\s+\\d{1,2},\\s+\\d{4}\\b')\n",
    "    matched_dates = pattern.findall(file_content)\n",
    "    return matched_dates\n",
    "\n",
    "# Example usage:\n",
    "file_path = \"random_dates.txt\"\n",
    "create_and_write_to_file(file_path, 10)\n",
    "\n",
    "matched_dates = extract_dates_from_file(file_path)\n",
    "print(matched_dates)"
   ]
  },
  {
   "cell_type": "code",
   "execution_count": 42,
   "id": "aafd2179",
   "metadata": {},
   "outputs": [
    {
     "name": "stdout",
     "output_type": "stream",
     "text": [
      "Searching for \"bear\" in \"The black cat jmps ovr the white dog.\" ->\n",
      "Not Matched!\n",
      "Searching for \"cat\" in \"The black cat jmps ovr the white dog.\" ->\n",
      "Matched!\n",
      "Searching for \"wolf\" in \"The black cat jmps ovr the white dog.\" ->\n",
      "Not Matched!\n"
     ]
    }
   ],
   "source": [
    "#qus15\n",
    "import re\n",
    "pattrns = [ 'bear', 'cat', 'wolf' ]\n",
    "text = 'The black cat jmps ovr the white dog.'\n",
    "for pattrn in pattrns:\n",
    "    print('Searching for \"%s\" in \"%s\" ->' % (pattrn, text),)\n",
    "    if re.search(pattrn,  text):\n",
    "        print('Matched!')\n",
    "    else:\n",
    "        print('Not Matched!')"
   ]
  },
  {
   "cell_type": "code",
   "execution_count": 22,
   "id": "a19daecd",
   "metadata": {},
   "outputs": [
    {
     "name": "stdout",
     "output_type": "stream",
     "text": [
      "The pattern 'sample' is found at locations: [10, 34]\n"
     ]
    }
   ],
   "source": [
    "#qus16\n",
    "def search_literal_string(original_string, search_string):\n",
    "    locations = []\n",
    "    start_index = 0\n",
    "\n",
    "    while start_index < len(original_string):\n",
    "        index = original_string.find(search_string, start_index)\n",
    "\n",
    "        if index == -1:\n",
    "            break\n",
    "\n",
    "        locations.append(index)\n",
    "        start_index = index + 1\n",
    "\n",
    "    return locations\n",
    "\n",
    "# Example usage:\n",
    "original_string = \"This is a sample string with some sample patterns.\"\n",
    "search_pattern = \"sample\"\n",
    "\n",
    "result_locations = search_literal_string(original_string, search_pattern)\n",
    "print(f\"The pattern '{search_pattern}' is found at locations: {result_locations}\")"
   ]
  },
  {
   "cell_type": "code",
   "execution_count": 39,
   "id": "1e96faec",
   "metadata": {},
   "outputs": [
    {
     "name": "stdout",
     "output_type": "stream",
     "text": [
      "['a', 'ab', 'abc', 'b', 'bc', 'c']\n"
     ]
    }
   ],
   "source": [
    "#qus17\n",
    "def find_sbstrings(input_string):\n",
    "    sbstrings = []\n",
    "\n",
    "    for i in range(len(input_string)):\n",
    "        for j in range(i + 1, len(input_string) + 1):\n",
    "            sbstrings.append(input_string[i:j])\n",
    "\n",
    "    return sbstrings\n",
    "\n",
    "# Example usage:\n",
    "input_string = \"abc\"\n",
    "result_sbstrings = find_sbstrings(input_string)\n",
    "print(result_sbstrings)"
   ]
  },
  {
   "cell_type": "code",
   "execution_count": 24,
   "id": "e5440325",
   "metadata": {},
   "outputs": [
    {
     "name": "stdout",
     "output_type": "stream",
     "text": [
      "The substring 'ra' occurs at positions: [(2, 3), (9, 10)]\n"
     ]
    }
   ],
   "source": [
    "#qus18\n",
    "def find_occurrences_and_positions(input_string, substring):\n",
    "    occurrences = []\n",
    "    start_index = 0\n",
    "\n",
    "    while start_index < len(input_string):\n",
    "        index = input_string.find(substring, start_index)\n",
    "\n",
    "        if index == -1:\n",
    "            break\n",
    "\n",
    "        occurrences.append((index, index + len(substring) - 1))\n",
    "        start_index = index + 1\n",
    "\n",
    "    return occurrences\n",
    "\n",
    "# Example usage:\n",
    "main_string = \"abracadabra\"\n",
    "search_substring = \"ra\"\n",
    "\n",
    "result_occurrences = find_occurrences_and_positions(main_string, search_substring)\n",
    "print(f\"The substring '{search_substring}' occurs at positions: {result_occurrences}\")"
   ]
  },
  {
   "cell_type": "code",
   "execution_count": 25,
   "id": "acdefcea",
   "metadata": {},
   "outputs": [
    {
     "name": "stdout",
     "output_type": "stream",
     "text": [
      "Original date: 2022-02-4\n",
      "Converted date: 04-02-2022\n"
     ]
    }
   ],
   "source": [
    "#qus19\n",
    "def convert_date_formt(input_date):\n",
    "    # Split the inpt date into yr, mnth and dy\n",
    "    year, month, day = map(int, input_date.split('-'))\n",
    "\n",
    "    # Formt the date in DD-mm-yyyy\n",
    "    formatted_date = f\"{day:02d}-{month:02d}-{year:04d}\"\n",
    "\n",
    "    return formatted_date\n",
    "\n",
    "# Example usage:\n",
    "input_date = \"2022-02-4\"\n",
    "converted_date = convert_date_formt(input_date)\n",
    "print(f\"Original date: {input_date}\")\n",
    "print(f\"Converted date: {converted_date}\")"
   ]
  },
  {
   "cell_type": "code",
   "execution_count": 26,
   "id": "f839e627",
   "metadata": {},
   "outputs": [
    {
     "name": "stdout",
     "output_type": "stream",
     "text": [
      "['12.50', '5.2', '8.75']\n"
     ]
    }
   ],
   "source": [
    "#qus20\n",
    "import re\n",
    "\n",
    "def find_decimal_numbers(input_string):\n",
    "    pttern = re.compile(r'\\b\\d+\\.\\d{1,2}\\b')\n",
    "    decimal_numbers = pttern.findall(input_string)\n",
    "    return decimal_numbers\n",
    "\n",
    "# Example usage:\n",
    "input_text = \"The prices are $12.50, $5.2, and $8.75 for different items.\"\n",
    "result = find_decimal_numbers(input_text)\n",
    "print(result)"
   ]
  },
  {
   "cell_type": "code",
   "execution_count": 27,
   "id": "59cbcd3f",
   "metadata": {},
   "outputs": [
    {
     "name": "stdout",
     "output_type": "stream",
     "text": [
      "Number: 12, Position: (14, 16)\n",
      "Number: 50, Position: (17, 19)\n",
      "Number: 3, Position: (35, 36)\n"
     ]
    }
   ],
   "source": [
    "#qus21\n",
    "import re\n",
    "\n",
    "def extract_numbers_with_positions(input_string):\n",
    "    pattern = re.compile(r'\\b\\d+\\b')\n",
    "    matches = pattern.finditer(input_string)\n",
    "\n",
    "    for match in matches:\n",
    "        number = match.group()\n",
    "        position = match.span()\n",
    "        print(f\"Number: {number}, Position: {position}\")\n",
    "\n",
    "# Example usage:\n",
    "input_text = \"The price is $12.50, and there are 3 items in stock.\"\n",
    "extract_numbers_with_positions(input_text)"
   ]
  },
  {
   "cell_type": "code",
   "execution_count": 28,
   "id": "78222cf6",
   "metadata": {},
   "outputs": [
    {
     "name": "stdout",
     "output_type": "stream",
     "text": [
      "The maximum numeric value is: 100\n"
     ]
    }
   ],
   "source": [
    "#qus22\n",
    "import re\n",
    "\n",
    "def extract_max_numeric_value(input_string):\n",
    "    numeric_values = re.findall(r'\\d+', input_string)\n",
    "    if numeric_values:\n",
    "        return max(map(int, numeric_values))\n",
    "    else:\n",
    "        return None\n",
    "\n",
    "# Example usage:\n",
    "input_str = \"The price is $50.99, but there's a 20% discount for orders over $100.\"\n",
    "max_numeric_value = extract_max_numeric_value(input_str)\n",
    "print(f\"The maximum numeric value is: {max_numeric_value}\")"
   ]
  },
  {
   "cell_type": "code",
   "execution_count": 29,
   "id": "7991761e",
   "metadata": {},
   "outputs": [
    {
     "name": "stdout",
     "output_type": "stream",
     "text": [
      "TheLionKingIsAMovie\n"
     ]
    }
   ],
   "source": [
    "#qus23\n",
    "import re\n",
    "\n",
    "def insert_species_between_capital_words(input_string, species):\n",
    "    result_string = re.sub(r'(?<=\\b[A-Z])\\s', f' {species} ', input_string)\n",
    "    return result_string\n",
    "\n",
    "# Example usage:\n",
    "input_str = \"TheLionKingIsAMovie\"\n",
    "species_inserted_str = insert_species_between_capital_words(input_str, \"species\")\n",
    "print(species_inserted_str)"
   ]
  },
  {
   "cell_type": "code",
   "execution_count": 30,
   "id": "fbb62e41",
   "metadata": {},
   "outputs": [
    {
     "name": "stdout",
     "output_type": "stream",
     "text": [
      "['Ab', 'Cd', 'Ef', 'Gh', 'Ij', 'Kl', 'Mn', 'Op', 'Qr', 'St', 'Uv', 'Wx', 'Yz']\n"
     ]
    }
   ],
   "source": [
    "#qus24\n",
    "import re\n",
    "\n",
    "input_str = \"AbCdEfGhIjKlMnOpQrStUvWxYz\"\n",
    "pattern = re.compile(r'([A-Z][a-z])')\n",
    "\n",
    "matches = re.findall(pattern, input_str)\n",
    "print(matches)"
   ]
  },
  {
   "cell_type": "code",
   "execution_count": 31,
   "id": "a02735af",
   "metadata": {},
   "outputs": [
    {
     "name": "stdout",
     "output_type": "stream",
     "text": [
      "The sun is shining bright and the sky is blue.\n"
     ]
    }
   ],
   "source": [
    "#qus25\n",
    "import re\n",
    "\n",
    "def remove_continuous_duplicates(sentence):\n",
    "    cleaned_sentence = re.sub(r'\\b(\\w+)(\\s+\\1\\b)+', r'\\1', sentence)\n",
    "    return cleaned_sentence\n",
    "\n",
    "# Example usage:\n",
    "input_sentence = \"The sun is shining shining bright and and the sky is blue blue.\"\n",
    "result = remove_continuous_duplicates(input_sentence)\n",
    "print(result)"
   ]
  },
  {
   "cell_type": "code",
   "execution_count": 37,
   "id": "a65fa8f3",
   "metadata": {},
   "outputs": [
    {
     "name": "stdout",
     "output_type": "stream",
     "text": [
      "The string 'Hello123' ends by an alphanumeric character.\n"
     ]
    }
   ],
   "source": [
    "#qus26\n",
    "import re\n",
    "\n",
    "def ends_with_alphanumeric(input_string):\n",
    "    pattern = re.compile(r'.*[a-zA-Z0-9]$')\n",
    "\n",
    "    if pattern.match(input_string):\n",
    "        return True\n",
    "    else:\n",
    "        return False\n",
    "\n",
    "# Example usage:\n",
    "test_string = \"Hello123\"\n",
    "result = ends_with_alphanumeric(test_string)\n",
    "\n",
    "if result:\n",
    "    print(f\"The string '{test_string}' ends by an alphanumeric character.\")\n",
    "else:\n",
    "    print(f\"The string '{test_string}' does not end by an alphanumeric character.\")"
   ]
  },
  {
   "cell_type": "code",
   "execution_count": 38,
   "id": "6e466c64",
   "metadata": {},
   "outputs": [
    {
     "name": "stdout",
     "output_type": "stream",
     "text": [
      "['#Python', '#regex', '#tags']\n"
     ]
    }
   ],
   "source": [
    "#qus27\n",
    "import re\n",
    "\n",
    "def extrct_hastgs(input_string):\n",
    "    hashtags = re.findall(r'#\\w+', input_string)\n",
    "    return hashtags\n",
    "\n",
    "# Example usage:\n",
    "input_str = \"This is a #Python program with #regex to extract #tags.\"\n",
    "result = extrct_hastgs(input_str)\n",
    "print(result)"
   ]
  },
  {
   "cell_type": "code",
   "execution_count": 34,
   "id": "cbd41c2c",
   "metadata": {},
   "outputs": [
    {
     "name": "stdout",
     "output_type": "stream",
     "text": [
      "This is a string with  unicode  symbols.\n"
     ]
    }
   ],
   "source": [
    "#qus28\n",
    "import re\n",
    "\n",
    "def remove_unicode_symbols(input_string):\n",
    "    cleaned_string = re.sub(r'<U\\+[0-9A-Fa-f]+>', '', input_string)\n",
    "    return cleaned_string\n",
    "\n",
    "# Example usage:\n",
    "input_str = \"This is a string with <U+0041> unicode <U+1F603> symbols.\"\n",
    "result = remove_unicode_symbols(input_str)\n",
    "print(result)"
   ]
  },
  {
   "cell_type": "code",
   "execution_count": 35,
   "id": "e9b58f24",
   "metadata": {},
   "outputs": [
    {
     "name": "stdout",
     "output_type": "stream",
     "text": [
      "Extracted dates: ['2022-07-14', '2022-04-14', '2022-12-06', '2022-07-30', '2022-06-19']\n"
     ]
    }
   ],
   "source": [
    "#qus29\n",
    "import re\n",
    "import random\n",
    "from datetime import datetime, timedelta\n",
    "\n",
    "# Function to generate random dates\n",
    "def generate_random_date():\n",
    "    start_date = datetime(2022, 1, 1)\n",
    "    end_date = datetime(2022, 12, 31)\n",
    "    random_date = start_date + timedelta(days=random.randint(0, (end_date - start_date).days))\n",
    "    return random_date.strftime(\"%Y-%m-%d\")\n",
    "\n",
    "# Function to create a text file with random data\n",
    "def create_text_file(file_path, num_lines):\n",
    "    with open(file_path, 'w') as file:\n",
    "        for _ in range(num_lines):\n",
    "            file.write(f\"This is some random text with a date: {generate_random_date()}\\n\")\n",
    "\n",
    "# Function to extract dates from a text file\n",
    "def extract_dates_from_file(file_path):\n",
    "    with open(file_path, 'r') as file:\n",
    "        content = file.read()\n",
    "        dates = re.findall(r'\\d{4}-\\d{2}-\\d{2}', content)\n",
    "        return dates\n",
    "\n",
    "# Example usage:\n",
    "file_path = \"random_data.txt\"\n",
    "num_lines = 5\n",
    "create_text_file(file_path, num_lines)\n",
    "\n",
    "extracted_dates = extract_dates_from_file(file_path)\n",
    "print(\"Extracted dates:\", extracted_dates)"
   ]
  },
  {
   "cell_type": "code",
   "execution_count": 36,
   "id": "a7d93143",
   "metadata": {},
   "outputs": [
    {
     "name": "stdout",
     "output_type": "stream",
     "text": [
      "a sample string  words  varying lengths.\n"
     ]
    }
   ],
   "source": [
    "#qus30\n",
    "import re\n",
    "\n",
    "def remove_words_within_length_range(input_string, min_length=2, max_length=4):\n",
    "    pattern = re.compile(r'\\b\\w{%d,%d}\\b' % (min_length, max_length))\n",
    "    result_string = re.sub(pattern, '', input_string)\n",
    "    return result_string.strip()\n",
    "\n",
    "# Example usage:\n",
    "input_str = \"This is a sample string with words of varying lengths.\"\n",
    "result = remove_words_within_length_range(input_str)\n",
    "print(result)"
   ]
  },
  {
   "cell_type": "code",
   "execution_count": null,
   "id": "2aa033b0",
   "metadata": {},
   "outputs": [],
   "source": []
  }
 ],
 "metadata": {
  "kernelspec": {
   "display_name": "Python 3 (ipykernel)",
   "language": "python",
   "name": "python3"
  },
  "language_info": {
   "codemirror_mode": {
    "name": "ipython",
    "version": 3
   },
   "file_extension": ".py",
   "mimetype": "text/x-python",
   "name": "python",
   "nbconvert_exporter": "python",
   "pygments_lexer": "ipython3",
   "version": "3.11.5"
  }
 },
 "nbformat": 4,
 "nbformat_minor": 5
}
